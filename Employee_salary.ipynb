{
 "cells": [
  {
   "cell_type": "code",
   "execution_count": 1,
   "metadata": {},
   "outputs": [],
   "source": [
    "import numpy as np\n",
    "import pandas as pd\n",
    "import matplotlib.pyplot as plt\n",
    "import seaborn as sns"
   ]
  },
  {
   "cell_type": "code",
   "execution_count": 2,
   "metadata": {},
   "outputs": [],
   "source": [
    "df = pd.read_csv(\"C:\\\\Pandasdata\\\\DT_files\\\\employee.csv\")"
   ]
  },
  {
   "cell_type": "code",
   "execution_count": 3,
   "metadata": {},
   "outputs": [
    {
     "data": {
      "text/html": [
       "<div>\n",
       "<style scoped>\n",
       "    .dataframe tbody tr th:only-of-type {\n",
       "        vertical-align: middle;\n",
       "    }\n",
       "\n",
       "    .dataframe tbody tr th {\n",
       "        vertical-align: top;\n",
       "    }\n",
       "\n",
       "    .dataframe thead th {\n",
       "        text-align: right;\n",
       "    }\n",
       "</style>\n",
       "<table border=\"1\" class=\"dataframe\">\n",
       "  <thead>\n",
       "    <tr style=\"text-align: right;\">\n",
       "      <th></th>\n",
       "      <th>NAME</th>\n",
       "      <th>JOB TITLE</th>\n",
       "      <th>DEPARTMENT</th>\n",
       "      <th>EMPLOYEE ANNUAL SALARY</th>\n",
       "      <th>ESTIMATED ANNUAL SALARY MINUS FURLOUGHS</th>\n",
       "    </tr>\n",
       "  </thead>\n",
       "  <tbody>\n",
       "    <tr>\n",
       "      <th>0</th>\n",
       "      <td>AARON,  ELVIA J</td>\n",
       "      <td>WATER RATE TAKER</td>\n",
       "      <td>WATER MGMNT</td>\n",
       "      <td>$81,000.00</td>\n",
       "      <td>$73,862.00</td>\n",
       "    </tr>\n",
       "    <tr>\n",
       "      <th>1</th>\n",
       "      <td>AARON,  JEFFERY M</td>\n",
       "      <td>POLICE OFFICER</td>\n",
       "      <td>POLICE</td>\n",
       "      <td>$74,628.00</td>\n",
       "      <td>$74,628.00</td>\n",
       "    </tr>\n",
       "    <tr>\n",
       "      <th>2</th>\n",
       "      <td>AARON,  KIMBERLEI R</td>\n",
       "      <td>CHIEF CONTRACT EXPEDITER</td>\n",
       "      <td>FLEET MANAGEMNT</td>\n",
       "      <td>$77,280.00</td>\n",
       "      <td>$70,174.00</td>\n",
       "    </tr>\n",
       "    <tr>\n",
       "      <th>3</th>\n",
       "      <td>ABAD JR,  VICENTE M</td>\n",
       "      <td>CIVIL ENGINEER IV</td>\n",
       "      <td>WATER MGMNT</td>\n",
       "      <td>$96,276.00</td>\n",
       "      <td>$96,276.00</td>\n",
       "    </tr>\n",
       "    <tr>\n",
       "      <th>4</th>\n",
       "      <td>ABBATACOLA,  ROBERT J</td>\n",
       "      <td>ELECTRICAL MECHANIC</td>\n",
       "      <td>WATER MGMNT</td>\n",
       "      <td>$84,032.00</td>\n",
       "      <td>$76,627.00</td>\n",
       "    </tr>\n",
       "  </tbody>\n",
       "</table>\n",
       "</div>"
      ],
      "text/plain": [
       "                    NAME                 JOB TITLE       DEPARTMENT  \\\n",
       "0        AARON,  ELVIA J          WATER RATE TAKER      WATER MGMNT   \n",
       "1      AARON,  JEFFERY M            POLICE OFFICER           POLICE   \n",
       "2    AARON,  KIMBERLEI R  CHIEF CONTRACT EXPEDITER  FLEET MANAGEMNT   \n",
       "3    ABAD JR,  VICENTE M         CIVIL ENGINEER IV      WATER MGMNT   \n",
       "4  ABBATACOLA,  ROBERT J       ELECTRICAL MECHANIC      WATER MGMNT   \n",
       "\n",
       "  EMPLOYEE ANNUAL SALARY ESTIMATED ANNUAL SALARY MINUS FURLOUGHS  \n",
       "0            $81,000.00                              $73,862.00   \n",
       "1            $74,628.00                              $74,628.00   \n",
       "2            $77,280.00                              $70,174.00   \n",
       "3            $96,276.00                              $96,276.00   \n",
       "4            $84,032.00                              $76,627.00   "
      ]
     },
     "execution_count": 3,
     "metadata": {},
     "output_type": "execute_result"
    }
   ],
   "source": [
    "df.head()"
   ]
  },
  {
   "cell_type": "code",
   "execution_count": 4,
   "metadata": {},
   "outputs": [
    {
     "data": {
      "text/plain": [
       "NAME                                       0\n",
       "JOB TITLE                                  0\n",
       "DEPARTMENT                                 0\n",
       "EMPLOYEE ANNUAL SALARY                     0\n",
       "ESTIMATED ANNUAL SALARY MINUS FURLOUGHS    0\n",
       "dtype: int64"
      ]
     },
     "execution_count": 4,
     "metadata": {},
     "output_type": "execute_result"
    }
   ],
   "source": [
    "df.isnull().sum()"
   ]
  },
  {
   "cell_type": "code",
   "execution_count": 5,
   "metadata": {},
   "outputs": [
    {
     "data": {
      "text/plain": [
       "array(['WATER RATE TAKER', 'POLICE OFFICER', 'CHIEF CONTRACT EXPEDITER',\n",
       "       ..., 'ASST CHIEF HIGHWAY ENGINEER', 'CASE ANALYST - LAW',\n",
       "       'OPERATIONS ANALYST'], dtype=object)"
      ]
     },
     "execution_count": 5,
     "metadata": {},
     "output_type": "execute_result"
    }
   ],
   "source": [
    "df['JOB TITLE'].unique()"
   ]
  },
  {
   "cell_type": "code",
   "execution_count": 6,
   "metadata": {},
   "outputs": [
    {
     "data": {
      "text/plain": [
       "POLICE OFFICER                                   10740\n",
       "FIREFIGHTER                                       1224\n",
       "FIREFIGHTER-EMT                                   1182\n",
       "SERGEANT                                          1163\n",
       "MOTOR TRUCK DRIVER                                 919\n",
       "                                                 ...  \n",
       "PRINCIPAL COMPUTER CONSOLE OPERATOR                  1\n",
       "SENIOR PURCHASE CONTRACT ADMINISTRATOR               1\n",
       "ASST COORD PRINTING SERVICES                         1\n",
       "SUPERVISING VENTILATION AND FURNACE INSPECTOR        1\n",
       "DIR OF REVENUE                                       1\n",
       "Name: JOB TITLE, Length: 1123, dtype: int64"
      ]
     },
     "execution_count": 6,
     "metadata": {},
     "output_type": "execute_result"
    }
   ],
   "source": [
    "df['JOB TITLE'].value_counts()"
   ]
  },
  {
   "cell_type": "code",
   "execution_count": 7,
   "metadata": {},
   "outputs": [
    {
     "data": {
      "text/plain": [
       "POLICE                   13924\n",
       "FIRE                      5013\n",
       "STREETS & SAN             2157\n",
       "WATER MGMNT               1798\n",
       "OEMC                      1348\n",
       "AVIATION                  1262\n",
       "TRANSPORTN                1214\n",
       "PUBLIC LIBRARY            1036\n",
       "HEALTH                     850\n",
       "FAMILY & SUPPORT           846\n",
       "FLEET MANAGEMNT            594\n",
       "GENERAL SERVICES           471\n",
       "LAW                        406\n",
       "REVENUE                    406\n",
       "CITY COUNCIL               359\n",
       "BUILDINGS                  290\n",
       "COMMUNITY DEVELOPMENT      233\n",
       "BUSINESS AFFAIRS           188\n",
       "FINANCE                    188\n",
       "CITY CLERK                 125\n",
       "BOARD OF ELECTION          114\n",
       "DoIT                        93\n",
       "IPRA                        87\n",
       "HUMAN RESOURCES             72\n",
       "MAYOR'S OFFICE              71\n",
       "CULTURAL AFFAIRS            64\n",
       "ANIMAL CONTRL               63\n",
       "ENVIRONMENT                 61\n",
       "PROCUREMENT                 58\n",
       "INSPECTOR GEN               53\n",
       "BUDGET & MGMT               49\n",
       "ADMIN HEARNG                40\n",
       "HUMAN RELATIONS             30\n",
       "DISABILITIES                30\n",
       "COMPLIANCE                  24\n",
       "TREASURER                   23\n",
       "BOARD OF ETHICS              7\n",
       "POLICE BOARD                 2\n",
       "LICENSE APPL COMM            1\n",
       "Name: DEPARTMENT, dtype: int64"
      ]
     },
     "execution_count": 7,
     "metadata": {},
     "output_type": "execute_result"
    }
   ],
   "source": [
    "df['DEPARTMENT'].value_counts()"
   ]
  },
  {
   "cell_type": "code",
   "execution_count": 8,
   "metadata": {},
   "outputs": [
    {
     "data": {
      "text/plain": [
       "<matplotlib.axes._subplots.AxesSubplot at 0x2130f695c40>"
      ]
     },
     "execution_count": 8,
     "metadata": {},
     "output_type": "execute_result"
    },
    {
     "data": {
      "image/png": "[encoded data removed]",
      "text/plain": [
       "<Figure size 432x288 with 1 Axes>"
      ]
     },
     "metadata": {
      "needs_background": "light"
     },
     "output_type": "display_data"
    }
   ],
   "source": [
    "sns.countplot(df['DEPARTMENT'])"
   ]
  },
  {
   "cell_type": "code",
   "execution_count": 9,
   "metadata": {},
   "outputs": [
    {
     "data": {
      "text/html": [
       "<div>\n",
       "<style scoped>\n",
       "    .dataframe tbody tr th:only-of-type {\n",
       "        vertical-align: middle;\n",
       "    }\n",
       "\n",
       "    .dataframe tbody tr th {\n",
       "        vertical-align: top;\n",
       "    }\n",
       "\n",
       "    .dataframe thead th {\n",
       "        text-align: right;\n",
       "    }\n",
       "</style>\n",
       "<table border=\"1\" class=\"dataframe\">\n",
       "  <thead>\n",
       "    <tr style=\"text-align: right;\">\n",
       "      <th></th>\n",
       "      <th>NAME</th>\n",
       "      <th>JOB TITLE</th>\n",
       "      <th>DEPARTMENT</th>\n",
       "      <th>EMPLOYEE ANNUAL SALARY</th>\n",
       "      <th>ESTIMATED ANNUAL SALARY MINUS FURLOUGHS</th>\n",
       "    </tr>\n",
       "  </thead>\n",
       "  <tbody>\n",
       "    <tr>\n",
       "      <th>count</th>\n",
       "      <td>33650</td>\n",
       "      <td>33650</td>\n",
       "      <td>33650</td>\n",
       "      <td>33650</td>\n",
       "      <td>33650</td>\n",
       "    </tr>\n",
       "    <tr>\n",
       "      <th>unique</th>\n",
       "      <td>33341</td>\n",
       "      <td>1123</td>\n",
       "      <td>39</td>\n",
       "      <td>1018</td>\n",
       "      <td>1077</td>\n",
       "    </tr>\n",
       "    <tr>\n",
       "      <th>top</th>\n",
       "      <td>HERNANDEZ,  JUAN C</td>\n",
       "      <td>POLICE OFFICER</td>\n",
       "      <td>POLICE</td>\n",
       "      <td>$77,238.00</td>\n",
       "      <td>$77,238.00</td>\n",
       "    </tr>\n",
       "    <tr>\n",
       "      <th>freq</th>\n",
       "      <td>4</td>\n",
       "      <td>10740</td>\n",
       "      <td>13924</td>\n",
       "      <td>2981</td>\n",
       "      <td>2981</td>\n",
       "    </tr>\n",
       "  </tbody>\n",
       "</table>\n",
       "</div>"
      ],
      "text/plain": [
       "                      NAME       JOB TITLE DEPARTMENT EMPLOYEE ANNUAL SALARY  \\\n",
       "count                33650           33650      33650                  33650   \n",
       "unique               33341            1123         39                   1018   \n",
       "top     HERNANDEZ,  JUAN C  POLICE OFFICER     POLICE            $77,238.00    \n",
       "freq                     4           10740      13924                   2981   \n",
       "\n",
       "       ESTIMATED ANNUAL SALARY MINUS FURLOUGHS  \n",
       "count                                    33650  \n",
       "unique                                    1077  \n",
       "top                                $77,238.00   \n",
       "freq                                      2981  "
      ]
     },
     "execution_count": 9,
     "metadata": {},
     "output_type": "execute_result"
    }
   ],
   "source": [
    "df.describe(include='all')"
   ]
  },
  {
   "cell_type": "code",
   "execution_count": 10,
   "metadata": {},
   "outputs": [],
   "source": [
    "dd=pd.get_dummies(df['DEPARTMENT'],drop_first= True)"
   ]
  },
  {
   "cell_type": "code",
   "execution_count": 11,
   "metadata": {},
   "outputs": [
    {
     "data": {
      "text/html": [
       "<div>\n",
       "<style scoped>\n",
       "    .dataframe tbody tr th:only-of-type {\n",
       "        vertical-align: middle;\n",
       "    }\n",
       "\n",
       "    .dataframe tbody tr th {\n",
       "        vertical-align: top;\n",
       "    }\n",
       "\n",
       "    .dataframe thead th {\n",
       "        text-align: right;\n",
       "    }\n",
       "</style>\n",
       "<table border=\"1\" class=\"dataframe\">\n",
       "  <thead>\n",
       "    <tr style=\"text-align: right;\">\n",
       "      <th></th>\n",
       "      <th>ANIMAL CONTRL</th>\n",
       "      <th>AVIATION</th>\n",
       "      <th>BOARD OF ELECTION</th>\n",
       "      <th>BOARD OF ETHICS</th>\n",
       "      <th>BUDGET &amp; MGMT</th>\n",
       "      <th>BUILDINGS</th>\n",
       "      <th>BUSINESS AFFAIRS</th>\n",
       "      <th>CITY CLERK</th>\n",
       "      <th>CITY COUNCIL</th>\n",
       "      <th>COMMUNITY DEVELOPMENT</th>\n",
       "      <th>...</th>\n",
       "      <th>OEMC</th>\n",
       "      <th>POLICE</th>\n",
       "      <th>POLICE BOARD</th>\n",
       "      <th>PROCUREMENT</th>\n",
       "      <th>PUBLIC LIBRARY</th>\n",
       "      <th>REVENUE</th>\n",
       "      <th>STREETS &amp; SAN</th>\n",
       "      <th>TRANSPORTN</th>\n",
       "      <th>TREASURER</th>\n",
       "      <th>WATER MGMNT</th>\n",
       "    </tr>\n",
       "  </thead>\n",
       "  <tbody>\n",
       "    <tr>\n",
       "      <th>0</th>\n",
       "      <td>0</td>\n",
       "      <td>0</td>\n",
       "      <td>0</td>\n",
       "      <td>0</td>\n",
       "      <td>0</td>\n",
       "      <td>0</td>\n",
       "      <td>0</td>\n",
       "      <td>0</td>\n",
       "      <td>0</td>\n",
       "      <td>0</td>\n",
       "      <td>...</td>\n",
       "      <td>0</td>\n",
       "      <td>0</td>\n",
       "      <td>0</td>\n",
       "      <td>0</td>\n",
       "      <td>0</td>\n",
       "      <td>0</td>\n",
       "      <td>0</td>\n",
       "      <td>0</td>\n",
       "      <td>0</td>\n",
       "      <td>1</td>\n",
       "    </tr>\n",
       "    <tr>\n",
       "      <th>1</th>\n",
       "      <td>0</td>\n",
       "      <td>0</td>\n",
       "      <td>0</td>\n",
       "      <td>0</td>\n",
       "      <td>0</td>\n",
       "      <td>0</td>\n",
       "      <td>0</td>\n",
       "      <td>0</td>\n",
       "      <td>0</td>\n",
       "      <td>0</td>\n",
       "      <td>...</td>\n",
       "      <td>0</td>\n",
       "      <td>1</td>\n",
       "      <td>0</td>\n",
       "      <td>0</td>\n",
       "      <td>0</td>\n",
       "      <td>0</td>\n",
       "      <td>0</td>\n",
       "      <td>0</td>\n",
       "      <td>0</td>\n",
       "      <td>0</td>\n",
       "    </tr>\n",
       "    <tr>\n",
       "      <th>2</th>\n",
       "      <td>0</td>\n",
       "      <td>0</td>\n",
       "      <td>0</td>\n",
       "      <td>0</td>\n",
       "      <td>0</td>\n",
       "      <td>0</td>\n",
       "      <td>0</td>\n",
       "      <td>0</td>\n",
       "      <td>0</td>\n",
       "      <td>0</td>\n",
       "      <td>...</td>\n",
       "      <td>0</td>\n",
       "      <td>0</td>\n",
       "      <td>0</td>\n",
       "      <td>0</td>\n",
       "      <td>0</td>\n",
       "      <td>0</td>\n",
       "      <td>0</td>\n",
       "      <td>0</td>\n",
       "      <td>0</td>\n",
       "      <td>0</td>\n",
       "    </tr>\n",
       "    <tr>\n",
       "      <th>3</th>\n",
       "      <td>0</td>\n",
       "      <td>0</td>\n",
       "      <td>0</td>\n",
       "      <td>0</td>\n",
       "      <td>0</td>\n",
       "      <td>0</td>\n",
       "      <td>0</td>\n",
       "      <td>0</td>\n",
       "      <td>0</td>\n",
       "      <td>0</td>\n",
       "      <td>...</td>\n",
       "      <td>0</td>\n",
       "      <td>0</td>\n",
       "      <td>0</td>\n",
       "      <td>0</td>\n",
       "      <td>0</td>\n",
       "      <td>0</td>\n",
       "      <td>0</td>\n",
       "      <td>0</td>\n",
       "      <td>0</td>\n",
       "      <td>1</td>\n",
       "    </tr>\n",
       "    <tr>\n",
       "      <th>4</th>\n",
       "      <td>0</td>\n",
       "      <td>0</td>\n",
       "      <td>0</td>\n",
       "      <td>0</td>\n",
       "      <td>0</td>\n",
       "      <td>0</td>\n",
       "      <td>0</td>\n",
       "      <td>0</td>\n",
       "      <td>0</td>\n",
       "      <td>0</td>\n",
       "      <td>...</td>\n",
       "      <td>0</td>\n",
       "      <td>0</td>\n",
       "      <td>0</td>\n",
       "      <td>0</td>\n",
       "      <td>0</td>\n",
       "      <td>0</td>\n",
       "      <td>0</td>\n",
       "      <td>0</td>\n",
       "      <td>0</td>\n",
       "      <td>1</td>\n",
       "    </tr>\n",
       "  </tbody>\n",
       "</table>\n",
       "<p>5 rows × 38 columns</p>\n",
       "</div>"
      ],
      "text/plain": [
       "   ANIMAL CONTRL  AVIATION  BOARD OF ELECTION  BOARD OF ETHICS  BUDGET & MGMT  \\\n",
       "0              0         0                  0                0              0   \n",
       "1              0         0                  0                0              0   \n",
       "2              0         0                  0                0              0   \n",
       "3              0         0                  0                0              0   \n",
       "4              0         0                  0                0              0   \n",
       "\n",
       "   BUILDINGS  BUSINESS AFFAIRS  CITY CLERK  CITY COUNCIL  \\\n",
       "0          0                 0           0             0   \n",
       "1          0                 0           0             0   \n",
       "2          0                 0           0             0   \n",
       "3          0                 0           0             0   \n",
       "4          0                 0           0             0   \n",
       "\n",
       "   COMMUNITY DEVELOPMENT  ...  OEMC  POLICE  POLICE BOARD  PROCUREMENT  \\\n",
       "0                      0  ...     0       0             0            0   \n",
       "1                      0  ...     0       1             0            0   \n",
       "2                      0  ...     0       0             0            0   \n",
       "3                      0  ...     0       0             0            0   \n",
       "4                      0  ...     0       0             0            0   \n",
       "\n",
       "   PUBLIC LIBRARY  REVENUE  STREETS & SAN  TRANSPORTN  TREASURER  WATER MGMNT  \n",
       "0               0        0              0           0          0            1  \n",
       "1               0        0              0           0          0            0  \n",
       "2               0        0              0           0          0            0  \n",
       "3               0        0              0           0          0            1  \n",
       "4               0        0              0           0          0            1  \n",
       "\n",
       "[5 rows x 38 columns]"
      ]
     },
     "execution_count": 11,
     "metadata": {},
     "output_type": "execute_result"
    }
   ],
   "source": [
    "dd.head()"
   ]
  },
  {
   "cell_type": "code",
   "execution_count": 12,
   "metadata": {},
   "outputs": [
    {
     "data": {
      "text/plain": [
       "(33650, 5)"
      ]
     },
     "execution_count": 12,
     "metadata": {},
     "output_type": "execute_result"
    }
   ],
   "source": [
    "df.shape"
   ]
  },
  {
   "cell_type": "code",
   "execution_count": 13,
   "metadata": {},
   "outputs": [
    {
     "data": {
      "text/plain": [
       "(33650, 38)"
      ]
     },
     "execution_count": 13,
     "metadata": {},
     "output_type": "execute_result"
    }
   ],
   "source": [
    "dd.shape"
   ]
  },
  {
   "cell_type": "code",
   "execution_count": 14,
   "metadata": {},
   "outputs": [
    {
     "data": {
      "text/html": [
       "<div>\n",
       "<style scoped>\n",
       "    .dataframe tbody tr th:only-of-type {\n",
       "        vertical-align: middle;\n",
       "    }\n",
       "\n",
       "    .dataframe tbody tr th {\n",
       "        vertical-align: top;\n",
       "    }\n",
       "\n",
       "    .dataframe thead th {\n",
       "        text-align: right;\n",
       "    }\n",
       "</style>\n",
       "<table border=\"1\" class=\"dataframe\">\n",
       "  <thead>\n",
       "    <tr style=\"text-align: right;\">\n",
       "      <th></th>\n",
       "      <th>NAME</th>\n",
       "      <th>JOB TITLE</th>\n",
       "      <th>DEPARTMENT</th>\n",
       "      <th>EMPLOYEE ANNUAL SALARY</th>\n",
       "      <th>ESTIMATED ANNUAL SALARY MINUS FURLOUGHS</th>\n",
       "    </tr>\n",
       "  </thead>\n",
       "  <tbody>\n",
       "    <tr>\n",
       "      <th>0</th>\n",
       "      <td>AARON,  ELVIA J</td>\n",
       "      <td>WATER RATE TAKER</td>\n",
       "      <td>WATER MGMNT</td>\n",
       "      <td>$81,000.00</td>\n",
       "      <td>$73,862.00</td>\n",
       "    </tr>\n",
       "    <tr>\n",
       "      <th>1</th>\n",
       "      <td>AARON,  JEFFERY M</td>\n",
       "      <td>POLICE OFFICER</td>\n",
       "      <td>POLICE</td>\n",
       "      <td>$74,628.00</td>\n",
       "      <td>$74,628.00</td>\n",
       "    </tr>\n",
       "    <tr>\n",
       "      <th>2</th>\n",
       "      <td>AARON,  KIMBERLEI R</td>\n",
       "      <td>CHIEF CONTRACT EXPEDITER</td>\n",
       "      <td>FLEET MANAGEMNT</td>\n",
       "      <td>$77,280.00</td>\n",
       "      <td>$70,174.00</td>\n",
       "    </tr>\n",
       "    <tr>\n",
       "      <th>3</th>\n",
       "      <td>ABAD JR,  VICENTE M</td>\n",
       "      <td>CIVIL ENGINEER IV</td>\n",
       "      <td>WATER MGMNT</td>\n",
       "      <td>$96,276.00</td>\n",
       "      <td>$96,276.00</td>\n",
       "    </tr>\n",
       "    <tr>\n",
       "      <th>4</th>\n",
       "      <td>ABBATACOLA,  ROBERT J</td>\n",
       "      <td>ELECTRICAL MECHANIC</td>\n",
       "      <td>WATER MGMNT</td>\n",
       "      <td>$84,032.00</td>\n",
       "      <td>$76,627.00</td>\n",
       "    </tr>\n",
       "  </tbody>\n",
       "</table>\n",
       "</div>"
      ],
      "text/plain": [
       "                    NAME                 JOB TITLE       DEPARTMENT  \\\n",
       "0        AARON,  ELVIA J          WATER RATE TAKER      WATER MGMNT   \n",
       "1      AARON,  JEFFERY M            POLICE OFFICER           POLICE   \n",
       "2    AARON,  KIMBERLEI R  CHIEF CONTRACT EXPEDITER  FLEET MANAGEMNT   \n",
       "3    ABAD JR,  VICENTE M         CIVIL ENGINEER IV      WATER MGMNT   \n",
       "4  ABBATACOLA,  ROBERT J       ELECTRICAL MECHANIC      WATER MGMNT   \n",
       "\n",
       "  EMPLOYEE ANNUAL SALARY ESTIMATED ANNUAL SALARY MINUS FURLOUGHS  \n",
       "0            $81,000.00                              $73,862.00   \n",
       "1            $74,628.00                              $74,628.00   \n",
       "2            $77,280.00                              $70,174.00   \n",
       "3            $96,276.00                              $96,276.00   \n",
       "4            $84,032.00                              $76,627.00   "
      ]
     },
     "execution_count": 14,
     "metadata": {},
     "output_type": "execute_result"
    }
   ],
   "source": [
    "df.head()"
   ]
  },
  {
   "cell_type": "code",
   "execution_count": 15,
   "metadata": {},
   "outputs": [],
   "source": [
    "df = df.join(dd)"
   ]
  },
  {
   "cell_type": "code",
   "execution_count": 16,
   "metadata": {},
   "outputs": [
    {
     "data": {
      "text/html": [
       "<div>\n",
       "<style scoped>\n",
       "    .dataframe tbody tr th:only-of-type {\n",
       "        vertical-align: middle;\n",
       "    }\n",
       "\n",
       "    .dataframe tbody tr th {\n",
       "        vertical-align: top;\n",
       "    }\n",
       "\n",
       "    .dataframe thead th {\n",
       "        text-align: right;\n",
       "    }\n",
       "</style>\n",
       "<table border=\"1\" class=\"dataframe\">\n",
       "  <thead>\n",
       "    <tr style=\"text-align: right;\">\n",
       "      <th></th>\n",
       "      <th>NAME</th>\n",
       "      <th>JOB TITLE</th>\n",
       "      <th>DEPARTMENT</th>\n",
       "      <th>EMPLOYEE ANNUAL SALARY</th>\n",
       "      <th>ESTIMATED ANNUAL SALARY MINUS FURLOUGHS</th>\n",
       "      <th>ANIMAL CONTRL</th>\n",
       "      <th>AVIATION</th>\n",
       "      <th>BOARD OF ELECTION</th>\n",
       "      <th>BOARD OF ETHICS</th>\n",
       "      <th>BUDGET &amp; MGMT</th>\n",
       "      <th>...</th>\n",
       "      <th>OEMC</th>\n",
       "      <th>POLICE</th>\n",
       "      <th>POLICE BOARD</th>\n",
       "      <th>PROCUREMENT</th>\n",
       "      <th>PUBLIC LIBRARY</th>\n",
       "      <th>REVENUE</th>\n",
       "      <th>STREETS &amp; SAN</th>\n",
       "      <th>TRANSPORTN</th>\n",
       "      <th>TREASURER</th>\n",
       "      <th>WATER MGMNT</th>\n",
       "    </tr>\n",
       "  </thead>\n",
       "  <tbody>\n",
       "    <tr>\n",
       "      <th>0</th>\n",
       "      <td>AARON,  ELVIA J</td>\n",
       "      <td>WATER RATE TAKER</td>\n",
       "      <td>WATER MGMNT</td>\n",
       "      <td>$81,000.00</td>\n",
       "      <td>$73,862.00</td>\n",
       "      <td>0</td>\n",
       "      <td>0</td>\n",
       "      <td>0</td>\n",
       "      <td>0</td>\n",
       "      <td>0</td>\n",
       "      <td>...</td>\n",
       "      <td>0</td>\n",
       "      <td>0</td>\n",
       "      <td>0</td>\n",
       "      <td>0</td>\n",
       "      <td>0</td>\n",
       "      <td>0</td>\n",
       "      <td>0</td>\n",
       "      <td>0</td>\n",
       "      <td>0</td>\n",
       "      <td>1</td>\n",
       "    </tr>\n",
       "    <tr>\n",
       "      <th>1</th>\n",
       "      <td>AARON,  JEFFERY M</td>\n",
       "      <td>POLICE OFFICER</td>\n",
       "      <td>POLICE</td>\n",
       "      <td>$74,628.00</td>\n",
       "      <td>$74,628.00</td>\n",
       "      <td>0</td>\n",
       "      <td>0</td>\n",
       "      <td>0</td>\n",
       "      <td>0</td>\n",
       "      <td>0</td>\n",
       "      <td>...</td>\n",
       "      <td>0</td>\n",
       "      <td>1</td>\n",
       "      <td>0</td>\n",
       "      <td>0</td>\n",
       "      <td>0</td>\n",
       "      <td>0</td>\n",
       "      <td>0</td>\n",
       "      <td>0</td>\n",
       "      <td>0</td>\n",
       "      <td>0</td>\n",
       "    </tr>\n",
       "    <tr>\n",
       "      <th>2</th>\n",
       "      <td>AARON,  KIMBERLEI R</td>\n",
       "      <td>CHIEF CONTRACT EXPEDITER</td>\n",
       "      <td>FLEET MANAGEMNT</td>\n",
       "      <td>$77,280.00</td>\n",
       "      <td>$70,174.00</td>\n",
       "      <td>0</td>\n",
       "      <td>0</td>\n",
       "      <td>0</td>\n",
       "      <td>0</td>\n",
       "      <td>0</td>\n",
       "      <td>...</td>\n",
       "      <td>0</td>\n",
       "      <td>0</td>\n",
       "      <td>0</td>\n",
       "      <td>0</td>\n",
       "      <td>0</td>\n",
       "      <td>0</td>\n",
       "      <td>0</td>\n",
       "      <td>0</td>\n",
       "      <td>0</td>\n",
       "      <td>0</td>\n",
       "    </tr>\n",
       "    <tr>\n",
       "      <th>3</th>\n",
       "      <td>ABAD JR,  VICENTE M</td>\n",
       "      <td>CIVIL ENGINEER IV</td>\n",
       "      <td>WATER MGMNT</td>\n",
       "      <td>$96,276.00</td>\n",
       "      <td>$96,276.00</td>\n",
       "      <td>0</td>\n",
       "      <td>0</td>\n",
       "      <td>0</td>\n",
       "      <td>0</td>\n",
       "      <td>0</td>\n",
       "      <td>...</td>\n",
       "      <td>0</td>\n",
       "      <td>0</td>\n",
       "      <td>0</td>\n",
       "      <td>0</td>\n",
       "      <td>0</td>\n",
       "      <td>0</td>\n",
       "      <td>0</td>\n",
       "      <td>0</td>\n",
       "      <td>0</td>\n",
       "      <td>1</td>\n",
       "    </tr>\n",
       "    <tr>\n",
       "      <th>4</th>\n",
       "      <td>ABBATACOLA,  ROBERT J</td>\n",
       "      <td>ELECTRICAL MECHANIC</td>\n",
       "      <td>WATER MGMNT</td>\n",
       "      <td>$84,032.00</td>\n",
       "      <td>$76,627.00</td>\n",
       "      <td>0</td>\n",
       "      <td>0</td>\n",
       "      <td>0</td>\n",
       "      <td>0</td>\n",
       "      <td>0</td>\n",
       "      <td>...</td>\n",
       "      <td>0</td>\n",
       "      <td>0</td>\n",
       "      <td>0</td>\n",
       "      <td>0</td>\n",
       "      <td>0</td>\n",
       "      <td>0</td>\n",
       "      <td>0</td>\n",
       "      <td>0</td>\n",
       "      <td>0</td>\n",
       "      <td>1</td>\n",
       "    </tr>\n",
       "  </tbody>\n",
       "</table>\n",
       "<p>5 rows × 43 columns</p>\n",
       "</div>"
      ],
      "text/plain": [
       "                    NAME                 JOB TITLE       DEPARTMENT  \\\n",
       "0        AARON,  ELVIA J          WATER RATE TAKER      WATER MGMNT   \n",
       "1      AARON,  JEFFERY M            POLICE OFFICER           POLICE   \n",
       "2    AARON,  KIMBERLEI R  CHIEF CONTRACT EXPEDITER  FLEET MANAGEMNT   \n",
       "3    ABAD JR,  VICENTE M         CIVIL ENGINEER IV      WATER MGMNT   \n",
       "4  ABBATACOLA,  ROBERT J       ELECTRICAL MECHANIC      WATER MGMNT   \n",
       "\n",
       "  EMPLOYEE ANNUAL SALARY ESTIMATED ANNUAL SALARY MINUS FURLOUGHS  \\\n",
       "0            $81,000.00                              $73,862.00    \n",
       "1            $74,628.00                              $74,628.00    \n",
       "2            $77,280.00                              $70,174.00    \n",
       "3            $96,276.00                              $96,276.00    \n",
       "4            $84,032.00                              $76,627.00    \n",
       "\n",
       "   ANIMAL CONTRL  AVIATION  BOARD OF ELECTION  BOARD OF ETHICS  BUDGET & MGMT  \\\n",
       "0              0         0                  0                0              0   \n",
       "1              0         0                  0                0              0   \n",
       "2              0         0                  0                0              0   \n",
       "3              0         0                  0                0              0   \n",
       "4              0         0                  0                0              0   \n",
       "\n",
       "   ...  OEMC  POLICE  POLICE BOARD  PROCUREMENT  PUBLIC LIBRARY  REVENUE  \\\n",
       "0  ...     0       0             0            0               0        0   \n",
       "1  ...     0       1             0            0               0        0   \n",
       "2  ...     0       0             0            0               0        0   \n",
       "3  ...     0       0             0            0               0        0   \n",
       "4  ...     0       0             0            0               0        0   \n",
       "\n",
       "   STREETS & SAN  TRANSPORTN  TREASURER  WATER MGMNT  \n",
       "0              0           0          0            1  \n",
       "1              0           0          0            0  \n",
       "2              0           0          0            0  \n",
       "3              0           0          0            1  \n",
       "4              0           0          0            1  \n",
       "\n",
       "[5 rows x 43 columns]"
      ]
     },
     "execution_count": 16,
     "metadata": {},
     "output_type": "execute_result"
    }
   ],
   "source": [
    "df.head()"
   ]
  },
  {
   "cell_type": "code",
   "execution_count": 17,
   "metadata": {},
   "outputs": [],
   "source": [
    "from sklearn.preprocessing import StandardScaler"
   ]
  },
  {
   "cell_type": "code",
   "execution_count": 18,
   "metadata": {},
   "outputs": [],
   "source": [
    "ss = StandardScaler()"
   ]
  },
  {
   "cell_type": "code",
   "execution_count": 19,
   "metadata": {},
   "outputs": [],
   "source": [
    "df['EMPLOYEE ANNUAL SALARY'] =df['EMPLOYEE ANNUAL SALARY'].str.replace(',','')"
   ]
  },
  {
   "cell_type": "code",
   "execution_count": 20,
   "metadata": {},
   "outputs": [],
   "source": [
    "df['EMPLOYEE ANNUAL SALARY'] = df['EMPLOYEE ANNUAL SALARY'].str.replace('$','')"
   ]
  },
  {
   "cell_type": "code",
   "execution_count": 21,
   "metadata": {},
   "outputs": [
    {
     "data": {
      "text/plain": [
       "0         81000.00 \n",
       "1         74628.00 \n",
       "2         77280.00 \n",
       "3         96276.00 \n",
       "4         84032.00 \n",
       "            ...    \n",
       "33645     80862.00 \n",
       "33646     77238.00 \n",
       "33647     74628.00 \n",
       "33648     77238.00 \n",
       "33649    107064.00 \n",
       "Name: EMPLOYEE ANNUAL SALARY, Length: 33650, dtype: object"
      ]
     },
     "execution_count": 21,
     "metadata": {},
     "output_type": "execute_result"
    }
   ],
   "source": [
    "df[\"EMPLOYEE ANNUAL SALARY\"]"
   ]
  },
  {
   "cell_type": "code",
   "execution_count": 23,
   "metadata": {},
   "outputs": [],
   "source": [
    "df['EMPLOYEE ANNUAL SALARY']=df['EMPLOYEE ANNUAL SALARY'].astype(float)"
   ]
  },
  {
   "cell_type": "code",
   "execution_count": 24,
   "metadata": {
    "scrolled": true
   },
   "outputs": [
    {
     "data": {
      "text/html": [
       "<div>\n",
       "<style scoped>\n",
       "    .dataframe tbody tr th:only-of-type {\n",
       "        vertical-align: middle;\n",
       "    }\n",
       "\n",
       "    .dataframe tbody tr th {\n",
       "        vertical-align: top;\n",
       "    }\n",
       "\n",
       "    .dataframe thead th {\n",
       "        text-align: right;\n",
       "    }\n",
       "</style>\n",
       "<table border=\"1\" class=\"dataframe\">\n",
       "  <thead>\n",
       "    <tr style=\"text-align: right;\">\n",
       "      <th></th>\n",
       "      <th>NAME</th>\n",
       "      <th>JOB TITLE</th>\n",
       "      <th>DEPARTMENT</th>\n",
       "      <th>EMPLOYEE ANNUAL SALARY</th>\n",
       "      <th>ESTIMATED ANNUAL SALARY MINUS FURLOUGHS</th>\n",
       "      <th>ANIMAL CONTRL</th>\n",
       "      <th>AVIATION</th>\n",
       "      <th>BOARD OF ELECTION</th>\n",
       "      <th>BOARD OF ETHICS</th>\n",
       "      <th>BUDGET &amp; MGMT</th>\n",
       "      <th>...</th>\n",
       "      <th>OEMC</th>\n",
       "      <th>POLICE</th>\n",
       "      <th>POLICE BOARD</th>\n",
       "      <th>PROCUREMENT</th>\n",
       "      <th>PUBLIC LIBRARY</th>\n",
       "      <th>REVENUE</th>\n",
       "      <th>STREETS &amp; SAN</th>\n",
       "      <th>TRANSPORTN</th>\n",
       "      <th>TREASURER</th>\n",
       "      <th>WATER MGMNT</th>\n",
       "    </tr>\n",
       "  </thead>\n",
       "  <tbody>\n",
       "    <tr>\n",
       "      <th>0</th>\n",
       "      <td>AARON,  ELVIA J</td>\n",
       "      <td>WATER RATE TAKER</td>\n",
       "      <td>WATER MGMNT</td>\n",
       "      <td>81000.0</td>\n",
       "      <td>$73,862.00</td>\n",
       "      <td>0</td>\n",
       "      <td>0</td>\n",
       "      <td>0</td>\n",
       "      <td>0</td>\n",
       "      <td>0</td>\n",
       "      <td>...</td>\n",
       "      <td>0</td>\n",
       "      <td>0</td>\n",
       "      <td>0</td>\n",
       "      <td>0</td>\n",
       "      <td>0</td>\n",
       "      <td>0</td>\n",
       "      <td>0</td>\n",
       "      <td>0</td>\n",
       "      <td>0</td>\n",
       "      <td>1</td>\n",
       "    </tr>\n",
       "    <tr>\n",
       "      <th>1</th>\n",
       "      <td>AARON,  JEFFERY M</td>\n",
       "      <td>POLICE OFFICER</td>\n",
       "      <td>POLICE</td>\n",
       "      <td>74628.0</td>\n",
       "      <td>$74,628.00</td>\n",
       "      <td>0</td>\n",
       "      <td>0</td>\n",
       "      <td>0</td>\n",
       "      <td>0</td>\n",
       "      <td>0</td>\n",
       "      <td>...</td>\n",
       "      <td>0</td>\n",
       "      <td>1</td>\n",
       "      <td>0</td>\n",
       "      <td>0</td>\n",
       "      <td>0</td>\n",
       "      <td>0</td>\n",
       "      <td>0</td>\n",
       "      <td>0</td>\n",
       "      <td>0</td>\n",
       "      <td>0</td>\n",
       "    </tr>\n",
       "    <tr>\n",
       "      <th>2</th>\n",
       "      <td>AARON,  KIMBERLEI R</td>\n",
       "      <td>CHIEF CONTRACT EXPEDITER</td>\n",
       "      <td>FLEET MANAGEMNT</td>\n",
       "      <td>77280.0</td>\n",
       "      <td>$70,174.00</td>\n",
       "      <td>0</td>\n",
       "      <td>0</td>\n",
       "      <td>0</td>\n",
       "      <td>0</td>\n",
       "      <td>0</td>\n",
       "      <td>...</td>\n",
       "      <td>0</td>\n",
       "      <td>0</td>\n",
       "      <td>0</td>\n",
       "      <td>0</td>\n",
       "      <td>0</td>\n",
       "      <td>0</td>\n",
       "      <td>0</td>\n",
       "      <td>0</td>\n",
       "      <td>0</td>\n",
       "      <td>0</td>\n",
       "    </tr>\n",
       "    <tr>\n",
       "      <th>3</th>\n",
       "      <td>ABAD JR,  VICENTE M</td>\n",
       "      <td>CIVIL ENGINEER IV</td>\n",
       "      <td>WATER MGMNT</td>\n",
       "      <td>96276.0</td>\n",
       "      <td>$96,276.00</td>\n",
       "      <td>0</td>\n",
       "      <td>0</td>\n",
       "      <td>0</td>\n",
       "      <td>0</td>\n",
       "      <td>0</td>\n",
       "      <td>...</td>\n",
       "      <td>0</td>\n",
       "      <td>0</td>\n",
       "      <td>0</td>\n",
       "      <td>0</td>\n",
       "      <td>0</td>\n",
       "      <td>0</td>\n",
       "      <td>0</td>\n",
       "      <td>0</td>\n",
       "      <td>0</td>\n",
       "      <td>1</td>\n",
       "    </tr>\n",
       "    <tr>\n",
       "      <th>4</th>\n",
       "      <td>ABBATACOLA,  ROBERT J</td>\n",
       "      <td>ELECTRICAL MECHANIC</td>\n",
       "      <td>WATER MGMNT</td>\n",
       "      <td>84032.0</td>\n",
       "      <td>$76,627.00</td>\n",
       "      <td>0</td>\n",
       "      <td>0</td>\n",
       "      <td>0</td>\n",
       "      <td>0</td>\n",
       "      <td>0</td>\n",
       "      <td>...</td>\n",
       "      <td>0</td>\n",
       "      <td>0</td>\n",
       "      <td>0</td>\n",
       "      <td>0</td>\n",
       "      <td>0</td>\n",
       "      <td>0</td>\n",
       "      <td>0</td>\n",
       "      <td>0</td>\n",
       "      <td>0</td>\n",
       "      <td>1</td>\n",
       "    </tr>\n",
       "  </tbody>\n",
       "</table>\n",
       "<p>5 rows × 43 columns</p>\n",
       "</div>"
      ],
      "text/plain": [
       "                    NAME                 JOB TITLE       DEPARTMENT  \\\n",
       "0        AARON,  ELVIA J          WATER RATE TAKER      WATER MGMNT   \n",
       "1      AARON,  JEFFERY M            POLICE OFFICER           POLICE   \n",
       "2    AARON,  KIMBERLEI R  CHIEF CONTRACT EXPEDITER  FLEET MANAGEMNT   \n",
       "3    ABAD JR,  VICENTE M         CIVIL ENGINEER IV      WATER MGMNT   \n",
       "4  ABBATACOLA,  ROBERT J       ELECTRICAL MECHANIC      WATER MGMNT   \n",
       "\n",
       "   EMPLOYEE ANNUAL SALARY ESTIMATED ANNUAL SALARY MINUS FURLOUGHS  \\\n",
       "0                 81000.0                             $73,862.00    \n",
       "1                 74628.0                             $74,628.00    \n",
       "2                 77280.0                             $70,174.00    \n",
       "3                 96276.0                             $96,276.00    \n",
       "4                 84032.0                             $76,627.00    \n",
       "\n",
       "   ANIMAL CONTRL  AVIATION  BOARD OF ELECTION  BOARD OF ETHICS  BUDGET & MGMT  \\\n",
       "0              0         0                  0                0              0   \n",
       "1              0         0                  0                0              0   \n",
       "2              0         0                  0                0              0   \n",
       "3              0         0                  0                0              0   \n",
       "4              0         0                  0                0              0   \n",
       "\n",
       "   ...  OEMC  POLICE  POLICE BOARD  PROCUREMENT  PUBLIC LIBRARY  REVENUE  \\\n",
       "0  ...     0       0             0            0               0        0   \n",
       "1  ...     0       1             0            0               0        0   \n",
       "2  ...     0       0             0            0               0        0   \n",
       "3  ...     0       0             0            0               0        0   \n",
       "4  ...     0       0             0            0               0        0   \n",
       "\n",
       "   STREETS & SAN  TRANSPORTN  TREASURER  WATER MGMNT  \n",
       "0              0           0          0            1  \n",
       "1              0           0          0            0  \n",
       "2              0           0          0            0  \n",
       "3              0           0          0            1  \n",
       "4              0           0          0            1  \n",
       "\n",
       "[5 rows x 43 columns]"
      ]
     },
     "execution_count": 24,
     "metadata": {},
     "output_type": "execute_result"
    }
   ],
   "source": [
    "df.head()"
   ]
  },
  {
   "cell_type": "code",
   "execution_count": 25,
   "metadata": {},
   "outputs": [],
   "source": [
    "df['ESTIMATED ANNUAL SALARY MINUS FURLOUGHS']= df['ESTIMATED ANNUAL SALARY MINUS FURLOUGHS'].str.replace(',','')"
   ]
  },
  {
   "cell_type": "code",
   "execution_count": 26,
   "metadata": {},
   "outputs": [],
   "source": [
    "df['ESTIMATED ANNUAL SALARY MINUS FURLOUGHS']= df['ESTIMATED ANNUAL SALARY MINUS FURLOUGHS'].str.replace('$','')"
   ]
  },
  {
   "cell_type": "code",
   "execution_count": 27,
   "metadata": {},
   "outputs": [],
   "source": [
    "df['ESTIMATED ANNUAL SALARY MINUS FURLOUGHS']=df['ESTIMATED ANNUAL SALARY MINUS FURLOUGHS'].astype(float)"
   ]
  },
  {
   "cell_type": "code",
   "execution_count": 28,
   "metadata": {},
   "outputs": [],
   "source": [
    "y =df.iloc[:,4]"
   ]
  },
  {
   "cell_type": "code",
   "execution_count": 29,
   "metadata": {},
   "outputs": [
    {
     "data": {
      "text/plain": [
       "0         73862.0\n",
       "1         74628.0\n",
       "2         70174.0\n",
       "3         96276.0\n",
       "4         76627.0\n",
       "           ...   \n",
       "33645     80862.0\n",
       "33646     77238.0\n",
       "33647     74628.0\n",
       "33648     77238.0\n",
       "33649    107064.0\n",
       "Name: ESTIMATED ANNUAL SALARY MINUS FURLOUGHS, Length: 33650, dtype: float64"
      ]
     },
     "execution_count": 29,
     "metadata": {},
     "output_type": "execute_result"
    }
   ],
   "source": [
    "y"
   ]
  },
  {
   "cell_type": "code",
   "execution_count": 30,
   "metadata": {},
   "outputs": [],
   "source": [
    "df.drop('ESTIMATED ANNUAL SALARY MINUS FURLOUGHS', axis =1, inplace= True)"
   ]
  },
  {
   "cell_type": "code",
   "execution_count": 31,
   "metadata": {},
   "outputs": [
    {
     "data": {
      "text/html": [
       "<div>\n",
       "<style scoped>\n",
       "    .dataframe tbody tr th:only-of-type {\n",
       "        vertical-align: middle;\n",
       "    }\n",
       "\n",
       "    .dataframe tbody tr th {\n",
       "        vertical-align: top;\n",
       "    }\n",
       "\n",
       "    .dataframe thead th {\n",
       "        text-align: right;\n",
       "    }\n",
       "</style>\n",
       "<table border=\"1\" class=\"dataframe\">\n",
       "  <thead>\n",
       "    <tr style=\"text-align: right;\">\n",
       "      <th></th>\n",
       "      <th>NAME</th>\n",
       "      <th>JOB TITLE</th>\n",
       "      <th>DEPARTMENT</th>\n",
       "      <th>EMPLOYEE ANNUAL SALARY</th>\n",
       "      <th>ANIMAL CONTRL</th>\n",
       "      <th>AVIATION</th>\n",
       "      <th>BOARD OF ELECTION</th>\n",
       "      <th>BOARD OF ETHICS</th>\n",
       "      <th>BUDGET &amp; MGMT</th>\n",
       "      <th>BUILDINGS</th>\n",
       "      <th>...</th>\n",
       "      <th>OEMC</th>\n",
       "      <th>POLICE</th>\n",
       "      <th>POLICE BOARD</th>\n",
       "      <th>PROCUREMENT</th>\n",
       "      <th>PUBLIC LIBRARY</th>\n",
       "      <th>REVENUE</th>\n",
       "      <th>STREETS &amp; SAN</th>\n",
       "      <th>TRANSPORTN</th>\n",
       "      <th>TREASURER</th>\n",
       "      <th>WATER MGMNT</th>\n",
       "    </tr>\n",
       "  </thead>\n",
       "  <tbody>\n",
       "    <tr>\n",
       "      <th>0</th>\n",
       "      <td>AARON,  ELVIA J</td>\n",
       "      <td>WATER RATE TAKER</td>\n",
       "      <td>WATER MGMNT</td>\n",
       "      <td>81000.0</td>\n",
       "      <td>0</td>\n",
       "      <td>0</td>\n",
       "      <td>0</td>\n",
       "      <td>0</td>\n",
       "      <td>0</td>\n",
       "      <td>0</td>\n",
       "      <td>...</td>\n",
       "      <td>0</td>\n",
       "      <td>0</td>\n",
       "      <td>0</td>\n",
       "      <td>0</td>\n",
       "      <td>0</td>\n",
       "      <td>0</td>\n",
       "      <td>0</td>\n",
       "      <td>0</td>\n",
       "      <td>0</td>\n",
       "      <td>1</td>\n",
       "    </tr>\n",
       "    <tr>\n",
       "      <th>1</th>\n",
       "      <td>AARON,  JEFFERY M</td>\n",
       "      <td>POLICE OFFICER</td>\n",
       "      <td>POLICE</td>\n",
       "      <td>74628.0</td>\n",
       "      <td>0</td>\n",
       "      <td>0</td>\n",
       "      <td>0</td>\n",
       "      <td>0</td>\n",
       "      <td>0</td>\n",
       "      <td>0</td>\n",
       "      <td>...</td>\n",
       "      <td>0</td>\n",
       "      <td>1</td>\n",
       "      <td>0</td>\n",
       "      <td>0</td>\n",
       "      <td>0</td>\n",
       "      <td>0</td>\n",
       "      <td>0</td>\n",
       "      <td>0</td>\n",
       "      <td>0</td>\n",
       "      <td>0</td>\n",
       "    </tr>\n",
       "    <tr>\n",
       "      <th>2</th>\n",
       "      <td>AARON,  KIMBERLEI R</td>\n",
       "      <td>CHIEF CONTRACT EXPEDITER</td>\n",
       "      <td>FLEET MANAGEMNT</td>\n",
       "      <td>77280.0</td>\n",
       "      <td>0</td>\n",
       "      <td>0</td>\n",
       "      <td>0</td>\n",
       "      <td>0</td>\n",
       "      <td>0</td>\n",
       "      <td>0</td>\n",
       "      <td>...</td>\n",
       "      <td>0</td>\n",
       "      <td>0</td>\n",
       "      <td>0</td>\n",
       "      <td>0</td>\n",
       "      <td>0</td>\n",
       "      <td>0</td>\n",
       "      <td>0</td>\n",
       "      <td>0</td>\n",
       "      <td>0</td>\n",
       "      <td>0</td>\n",
       "    </tr>\n",
       "    <tr>\n",
       "      <th>3</th>\n",
       "      <td>ABAD JR,  VICENTE M</td>\n",
       "      <td>CIVIL ENGINEER IV</td>\n",
       "      <td>WATER MGMNT</td>\n",
       "      <td>96276.0</td>\n",
       "      <td>0</td>\n",
       "      <td>0</td>\n",
       "      <td>0</td>\n",
       "      <td>0</td>\n",
       "      <td>0</td>\n",
       "      <td>0</td>\n",
       "      <td>...</td>\n",
       "      <td>0</td>\n",
       "      <td>0</td>\n",
       "      <td>0</td>\n",
       "      <td>0</td>\n",
       "      <td>0</td>\n",
       "      <td>0</td>\n",
       "      <td>0</td>\n",
       "      <td>0</td>\n",
       "      <td>0</td>\n",
       "      <td>1</td>\n",
       "    </tr>\n",
       "    <tr>\n",
       "      <th>4</th>\n",
       "      <td>ABBATACOLA,  ROBERT J</td>\n",
       "      <td>ELECTRICAL MECHANIC</td>\n",
       "      <td>WATER MGMNT</td>\n",
       "      <td>84032.0</td>\n",
       "      <td>0</td>\n",
       "      <td>0</td>\n",
       "      <td>0</td>\n",
       "      <td>0</td>\n",
       "      <td>0</td>\n",
       "      <td>0</td>\n",
       "      <td>...</td>\n",
       "      <td>0</td>\n",
       "      <td>0</td>\n",
       "      <td>0</td>\n",
       "      <td>0</td>\n",
       "      <td>0</td>\n",
       "      <td>0</td>\n",
       "      <td>0</td>\n",
       "      <td>0</td>\n",
       "      <td>0</td>\n",
       "      <td>1</td>\n",
       "    </tr>\n",
       "  </tbody>\n",
       "</table>\n",
       "<p>5 rows × 42 columns</p>\n",
       "</div>"
      ],
      "text/plain": [
       "                    NAME                 JOB TITLE       DEPARTMENT  \\\n",
       "0        AARON,  ELVIA J          WATER RATE TAKER      WATER MGMNT   \n",
       "1      AARON,  JEFFERY M            POLICE OFFICER           POLICE   \n",
       "2    AARON,  KIMBERLEI R  CHIEF CONTRACT EXPEDITER  FLEET MANAGEMNT   \n",
       "3    ABAD JR,  VICENTE M         CIVIL ENGINEER IV      WATER MGMNT   \n",
       "4  ABBATACOLA,  ROBERT J       ELECTRICAL MECHANIC      WATER MGMNT   \n",
       "\n",
       "   EMPLOYEE ANNUAL SALARY  ANIMAL CONTRL  AVIATION  BOARD OF ELECTION  \\\n",
       "0                 81000.0              0         0                  0   \n",
       "1                 74628.0              0         0                  0   \n",
       "2                 77280.0              0         0                  0   \n",
       "3                 96276.0              0         0                  0   \n",
       "4                 84032.0              0         0                  0   \n",
       "\n",
       "   BOARD OF ETHICS  BUDGET & MGMT  BUILDINGS  ...  OEMC  POLICE  POLICE BOARD  \\\n",
       "0                0              0          0  ...     0       0             0   \n",
       "1                0              0          0  ...     0       1             0   \n",
       "2                0              0          0  ...     0       0             0   \n",
       "3                0              0          0  ...     0       0             0   \n",
       "4                0              0          0  ...     0       0             0   \n",
       "\n",
       "   PROCUREMENT  PUBLIC LIBRARY  REVENUE  STREETS & SAN  TRANSPORTN  TREASURER  \\\n",
       "0            0               0        0              0           0          0   \n",
       "1            0               0        0              0           0          0   \n",
       "2            0               0        0              0           0          0   \n",
       "3            0               0        0              0           0          0   \n",
       "4            0               0        0              0           0          0   \n",
       "\n",
       "   WATER MGMNT  \n",
       "0            1  \n",
       "1            0  \n",
       "2            0  \n",
       "3            1  \n",
       "4            1  \n",
       "\n",
       "[5 rows x 42 columns]"
      ]
     },
     "execution_count": 31,
     "metadata": {},
     "output_type": "execute_result"
    }
   ],
   "source": [
    "df.head()"
   ]
  },
  {
   "cell_type": "code",
   "execution_count": 32,
   "metadata": {},
   "outputs": [],
   "source": [
    "x = df.iloc[:,3:]"
   ]
  },
  {
   "cell_type": "code",
   "execution_count": 33,
   "metadata": {},
   "outputs": [
    {
     "data": {
      "text/html": [
       "<div>\n",
       "<style scoped>\n",
       "    .dataframe tbody tr th:only-of-type {\n",
       "        vertical-align: middle;\n",
       "    }\n",
       "\n",
       "    .dataframe tbody tr th {\n",
       "        vertical-align: top;\n",
       "    }\n",
       "\n",
       "    .dataframe thead th {\n",
       "        text-align: right;\n",
       "    }\n",
       "</style>\n",
       "<table border=\"1\" class=\"dataframe\">\n",
       "  <thead>\n",
       "    <tr style=\"text-align: right;\">\n",
       "      <th></th>\n",
       "      <th>EMPLOYEE ANNUAL SALARY</th>\n",
       "      <th>ANIMAL CONTRL</th>\n",
       "      <th>AVIATION</th>\n",
       "      <th>BOARD OF ELECTION</th>\n",
       "      <th>BOARD OF ETHICS</th>\n",
       "      <th>BUDGET &amp; MGMT</th>\n",
       "      <th>BUILDINGS</th>\n",
       "      <th>BUSINESS AFFAIRS</th>\n",
       "      <th>CITY CLERK</th>\n",
       "      <th>CITY COUNCIL</th>\n",
       "      <th>...</th>\n",
       "      <th>OEMC</th>\n",
       "      <th>POLICE</th>\n",
       "      <th>POLICE BOARD</th>\n",
       "      <th>PROCUREMENT</th>\n",
       "      <th>PUBLIC LIBRARY</th>\n",
       "      <th>REVENUE</th>\n",
       "      <th>STREETS &amp; SAN</th>\n",
       "      <th>TRANSPORTN</th>\n",
       "      <th>TREASURER</th>\n",
       "      <th>WATER MGMNT</th>\n",
       "    </tr>\n",
       "  </thead>\n",
       "  <tbody>\n",
       "    <tr>\n",
       "      <th>0</th>\n",
       "      <td>81000.0</td>\n",
       "      <td>0</td>\n",
       "      <td>0</td>\n",
       "      <td>0</td>\n",
       "      <td>0</td>\n",
       "      <td>0</td>\n",
       "      <td>0</td>\n",
       "      <td>0</td>\n",
       "      <td>0</td>\n",
       "      <td>0</td>\n",
       "      <td>...</td>\n",
       "      <td>0</td>\n",
       "      <td>0</td>\n",
       "      <td>0</td>\n",
       "      <td>0</td>\n",
       "      <td>0</td>\n",
       "      <td>0</td>\n",
       "      <td>0</td>\n",
       "      <td>0</td>\n",
       "      <td>0</td>\n",
       "      <td>1</td>\n",
       "    </tr>\n",
       "    <tr>\n",
       "      <th>1</th>\n",
       "      <td>74628.0</td>\n",
       "      <td>0</td>\n",
       "      <td>0</td>\n",
       "      <td>0</td>\n",
       "      <td>0</td>\n",
       "      <td>0</td>\n",
       "      <td>0</td>\n",
       "      <td>0</td>\n",
       "      <td>0</td>\n",
       "      <td>0</td>\n",
       "      <td>...</td>\n",
       "      <td>0</td>\n",
       "      <td>1</td>\n",
       "      <td>0</td>\n",
       "      <td>0</td>\n",
       "      <td>0</td>\n",
       "      <td>0</td>\n",
       "      <td>0</td>\n",
       "      <td>0</td>\n",
       "      <td>0</td>\n",
       "      <td>0</td>\n",
       "    </tr>\n",
       "    <tr>\n",
       "      <th>2</th>\n",
       "      <td>77280.0</td>\n",
       "      <td>0</td>\n",
       "      <td>0</td>\n",
       "      <td>0</td>\n",
       "      <td>0</td>\n",
       "      <td>0</td>\n",
       "      <td>0</td>\n",
       "      <td>0</td>\n",
       "      <td>0</td>\n",
       "      <td>0</td>\n",
       "      <td>...</td>\n",
       "      <td>0</td>\n",
       "      <td>0</td>\n",
       "      <td>0</td>\n",
       "      <td>0</td>\n",
       "      <td>0</td>\n",
       "      <td>0</td>\n",
       "      <td>0</td>\n",
       "      <td>0</td>\n",
       "      <td>0</td>\n",
       "      <td>0</td>\n",
       "    </tr>\n",
       "    <tr>\n",
       "      <th>3</th>\n",
       "      <td>96276.0</td>\n",
       "      <td>0</td>\n",
       "      <td>0</td>\n",
       "      <td>0</td>\n",
       "      <td>0</td>\n",
       "      <td>0</td>\n",
       "      <td>0</td>\n",
       "      <td>0</td>\n",
       "      <td>0</td>\n",
       "      <td>0</td>\n",
       "      <td>...</td>\n",
       "      <td>0</td>\n",
       "      <td>0</td>\n",
       "      <td>0</td>\n",
       "      <td>0</td>\n",
       "      <td>0</td>\n",
       "      <td>0</td>\n",
       "      <td>0</td>\n",
       "      <td>0</td>\n",
       "      <td>0</td>\n",
       "      <td>1</td>\n",
       "    </tr>\n",
       "    <tr>\n",
       "      <th>4</th>\n",
       "      <td>84032.0</td>\n",
       "      <td>0</td>\n",
       "      <td>0</td>\n",
       "      <td>0</td>\n",
       "      <td>0</td>\n",
       "      <td>0</td>\n",
       "      <td>0</td>\n",
       "      <td>0</td>\n",
       "      <td>0</td>\n",
       "      <td>0</td>\n",
       "      <td>...</td>\n",
       "      <td>0</td>\n",
       "      <td>0</td>\n",
       "      <td>0</td>\n",
       "      <td>0</td>\n",
       "      <td>0</td>\n",
       "      <td>0</td>\n",
       "      <td>0</td>\n",
       "      <td>0</td>\n",
       "      <td>0</td>\n",
       "      <td>1</td>\n",
       "    </tr>\n",
       "    <tr>\n",
       "      <th>...</th>\n",
       "      <td>...</td>\n",
       "      <td>...</td>\n",
       "      <td>...</td>\n",
       "      <td>...</td>\n",
       "      <td>...</td>\n",
       "      <td>...</td>\n",
       "      <td>...</td>\n",
       "      <td>...</td>\n",
       "      <td>...</td>\n",
       "      <td>...</td>\n",
       "      <td>...</td>\n",
       "      <td>...</td>\n",
       "      <td>...</td>\n",
       "      <td>...</td>\n",
       "      <td>...</td>\n",
       "      <td>...</td>\n",
       "      <td>...</td>\n",
       "      <td>...</td>\n",
       "      <td>...</td>\n",
       "      <td>...</td>\n",
       "      <td>...</td>\n",
       "    </tr>\n",
       "    <tr>\n",
       "      <th>33645</th>\n",
       "      <td>80862.0</td>\n",
       "      <td>0</td>\n",
       "      <td>0</td>\n",
       "      <td>0</td>\n",
       "      <td>0</td>\n",
       "      <td>0</td>\n",
       "      <td>0</td>\n",
       "      <td>0</td>\n",
       "      <td>0</td>\n",
       "      <td>0</td>\n",
       "      <td>...</td>\n",
       "      <td>0</td>\n",
       "      <td>0</td>\n",
       "      <td>0</td>\n",
       "      <td>0</td>\n",
       "      <td>0</td>\n",
       "      <td>0</td>\n",
       "      <td>0</td>\n",
       "      <td>0</td>\n",
       "      <td>0</td>\n",
       "      <td>0</td>\n",
       "    </tr>\n",
       "    <tr>\n",
       "      <th>33646</th>\n",
       "      <td>77238.0</td>\n",
       "      <td>0</td>\n",
       "      <td>0</td>\n",
       "      <td>0</td>\n",
       "      <td>0</td>\n",
       "      <td>0</td>\n",
       "      <td>0</td>\n",
       "      <td>0</td>\n",
       "      <td>0</td>\n",
       "      <td>0</td>\n",
       "      <td>...</td>\n",
       "      <td>0</td>\n",
       "      <td>1</td>\n",
       "      <td>0</td>\n",
       "      <td>0</td>\n",
       "      <td>0</td>\n",
       "      <td>0</td>\n",
       "      <td>0</td>\n",
       "      <td>0</td>\n",
       "      <td>0</td>\n",
       "      <td>0</td>\n",
       "    </tr>\n",
       "    <tr>\n",
       "      <th>33647</th>\n",
       "      <td>74628.0</td>\n",
       "      <td>0</td>\n",
       "      <td>0</td>\n",
       "      <td>0</td>\n",
       "      <td>0</td>\n",
       "      <td>0</td>\n",
       "      <td>0</td>\n",
       "      <td>0</td>\n",
       "      <td>0</td>\n",
       "      <td>0</td>\n",
       "      <td>...</td>\n",
       "      <td>0</td>\n",
       "      <td>1</td>\n",
       "      <td>0</td>\n",
       "      <td>0</td>\n",
       "      <td>0</td>\n",
       "      <td>0</td>\n",
       "      <td>0</td>\n",
       "      <td>0</td>\n",
       "      <td>0</td>\n",
       "      <td>0</td>\n",
       "    </tr>\n",
       "    <tr>\n",
       "      <th>33648</th>\n",
       "      <td>77238.0</td>\n",
       "      <td>0</td>\n",
       "      <td>0</td>\n",
       "      <td>0</td>\n",
       "      <td>0</td>\n",
       "      <td>0</td>\n",
       "      <td>0</td>\n",
       "      <td>0</td>\n",
       "      <td>0</td>\n",
       "      <td>0</td>\n",
       "      <td>...</td>\n",
       "      <td>0</td>\n",
       "      <td>1</td>\n",
       "      <td>0</td>\n",
       "      <td>0</td>\n",
       "      <td>0</td>\n",
       "      <td>0</td>\n",
       "      <td>0</td>\n",
       "      <td>0</td>\n",
       "      <td>0</td>\n",
       "      <td>0</td>\n",
       "    </tr>\n",
       "    <tr>\n",
       "      <th>33649</th>\n",
       "      <td>107064.0</td>\n",
       "      <td>0</td>\n",
       "      <td>0</td>\n",
       "      <td>0</td>\n",
       "      <td>0</td>\n",
       "      <td>0</td>\n",
       "      <td>0</td>\n",
       "      <td>0</td>\n",
       "      <td>0</td>\n",
       "      <td>0</td>\n",
       "      <td>...</td>\n",
       "      <td>0</td>\n",
       "      <td>0</td>\n",
       "      <td>0</td>\n",
       "      <td>0</td>\n",
       "      <td>0</td>\n",
       "      <td>0</td>\n",
       "      <td>0</td>\n",
       "      <td>0</td>\n",
       "      <td>0</td>\n",
       "      <td>0</td>\n",
       "    </tr>\n",
       "  </tbody>\n",
       "</table>\n",
       "<p>33650 rows × 39 columns</p>\n",
       "</div>"
      ],
      "text/plain": [
       "       EMPLOYEE ANNUAL SALARY  ANIMAL CONTRL  AVIATION  BOARD OF ELECTION  \\\n",
       "0                     81000.0              0         0                  0   \n",
       "1                     74628.0              0         0                  0   \n",
       "2                     77280.0              0         0                  0   \n",
       "3                     96276.0              0         0                  0   \n",
       "4                     84032.0              0         0                  0   \n",
       "...                       ...            ...       ...                ...   \n",
       "33645                 80862.0              0         0                  0   \n",
       "33646                 77238.0              0         0                  0   \n",
       "33647                 74628.0              0         0                  0   \n",
       "33648                 77238.0              0         0                  0   \n",
       "33649                107064.0              0         0                  0   \n",
       "\n",
       "       BOARD OF ETHICS  BUDGET & MGMT  BUILDINGS  BUSINESS AFFAIRS  \\\n",
       "0                    0              0          0                 0   \n",
       "1                    0              0          0                 0   \n",
       "2                    0              0          0                 0   \n",
       "3                    0              0          0                 0   \n",
       "4                    0              0          0                 0   \n",
       "...                ...            ...        ...               ...   \n",
       "33645                0              0          0                 0   \n",
       "33646                0              0          0                 0   \n",
       "33647                0              0          0                 0   \n",
       "33648                0              0          0                 0   \n",
       "33649                0              0          0                 0   \n",
       "\n",
       "       CITY CLERK  CITY COUNCIL  ...  OEMC  POLICE  POLICE BOARD  PROCUREMENT  \\\n",
       "0               0             0  ...     0       0             0            0   \n",
       "1               0             0  ...     0       1             0            0   \n",
       "2               0             0  ...     0       0             0            0   \n",
       "3               0             0  ...     0       0             0            0   \n",
       "4               0             0  ...     0       0             0            0   \n",
       "...           ...           ...  ...   ...     ...           ...          ...   \n",
       "33645           0             0  ...     0       0             0            0   \n",
       "33646           0             0  ...     0       1             0            0   \n",
       "33647           0             0  ...     0       1             0            0   \n",
       "33648           0             0  ...     0       1             0            0   \n",
       "33649           0             0  ...     0       0             0            0   \n",
       "\n",
       "       PUBLIC LIBRARY  REVENUE  STREETS & SAN  TRANSPORTN  TREASURER  \\\n",
       "0                   0        0              0           0          0   \n",
       "1                   0        0              0           0          0   \n",
       "2                   0        0              0           0          0   \n",
       "3                   0        0              0           0          0   \n",
       "4                   0        0              0           0          0   \n",
       "...               ...      ...            ...         ...        ...   \n",
       "33645               0        0              0           0          0   \n",
       "33646               0        0              0           0          0   \n",
       "33647               0        0              0           0          0   \n",
       "33648               0        0              0           0          0   \n",
       "33649               0        0              0           0          0   \n",
       "\n",
       "       WATER MGMNT  \n",
       "0                1  \n",
       "1                0  \n",
       "2                0  \n",
       "3                1  \n",
       "4                1  \n",
       "...            ...  \n",
       "33645            0  \n",
       "33646            0  \n",
       "33647            0  \n",
       "33648            0  \n",
       "33649            0  \n",
       "\n",
       "[33650 rows x 39 columns]"
      ]
     },
     "execution_count": 33,
     "metadata": {},
     "output_type": "execute_result"
    }
   ],
   "source": [
    "x"
   ]
  },
  {
   "cell_type": "code",
   "execution_count": 34,
   "metadata": {},
   "outputs": [
    {
     "data": {
      "text/plain": [
       "StandardScaler()"
      ]
     },
     "execution_count": 34,
     "metadata": {},
     "output_type": "execute_result"
    }
   ],
   "source": [
    "ss.fit(x)"
   ]
  },
  {
   "cell_type": "code",
   "execution_count": 35,
   "metadata": {},
   "outputs": [],
   "source": [
    "xx = ss.transform(x)"
   ]
  },
  {
   "cell_type": "code",
   "execution_count": 36,
   "metadata": {},
   "outputs": [
    {
     "data": {
      "text/plain": [
       "(33650, 39)"
      ]
     },
     "execution_count": 36,
     "metadata": {},
     "output_type": "execute_result"
    }
   ],
   "source": [
    "xx.shape"
   ]
  },
  {
   "cell_type": "code",
   "execution_count": 37,
   "metadata": {},
   "outputs": [
    {
     "data": {
      "text/plain": [
       "(33650,)"
      ]
     },
     "execution_count": 37,
     "metadata": {},
     "output_type": "execute_result"
    }
   ],
   "source": [
    "y.shape"
   ]
  },
  {
   "cell_type": "code",
   "execution_count": 38,
   "metadata": {},
   "outputs": [],
   "source": [
    "from sklearn.model_selection import train_test_split\n",
    "from sklearn.linear_model import LinearRegression\n",
    "from sklearn.metrics import r2_score\n",
    "from sklearn.metrics import mean_absolute_error,mean_squared_error, accuracy_score,confusion_matrix,classification_report"
   ]
  },
  {
   "cell_type": "code",
   "execution_count": 39,
   "metadata": {},
   "outputs": [],
   "source": [
    "x_train, x_test, y_train, y_test = train_test_split(xx,y,random_state = 42, test_size =0.2)"
   ]
  },
  {
   "cell_type": "code",
   "execution_count": 40,
   "metadata": {},
   "outputs": [
    {
     "data": {
      "text/plain": [
       "(26920, 39)"
      ]
     },
     "execution_count": 40,
     "metadata": {},
     "output_type": "execute_result"
    }
   ],
   "source": [
    "x_train.shape"
   ]
  },
  {
   "cell_type": "code",
   "execution_count": 41,
   "metadata": {},
   "outputs": [
    {
     "data": {
      "text/plain": [
       "(6730, 39)"
      ]
     },
     "execution_count": 41,
     "metadata": {},
     "output_type": "execute_result"
    }
   ],
   "source": [
    "x_test.shape"
   ]
  },
  {
   "cell_type": "code",
   "execution_count": 42,
   "metadata": {},
   "outputs": [
    {
     "data": {
      "text/plain": [
       "(26920,)"
      ]
     },
     "execution_count": 42,
     "metadata": {},
     "output_type": "execute_result"
    }
   ],
   "source": [
    "y_train.shape"
   ]
  },
  {
   "cell_type": "code",
   "execution_count": 43,
   "metadata": {},
   "outputs": [
    {
     "data": {
      "text/plain": [
       "(6730,)"
      ]
     },
     "execution_count": 43,
     "metadata": {},
     "output_type": "execute_result"
    }
   ],
   "source": [
    "y_test.shape"
   ]
  },
  {
   "cell_type": "code",
   "execution_count": 44,
   "metadata": {},
   "outputs": [],
   "source": [
    "lr = LinearRegression()"
   ]
  },
  {
   "cell_type": "code",
   "execution_count": 45,
   "metadata": {},
   "outputs": [
    {
     "data": {
      "text/plain": [
       "LinearRegression()"
      ]
     },
     "execution_count": 45,
     "metadata": {},
     "output_type": "execute_result"
    }
   ],
   "source": [
    "lr.fit(x_train,y_train)"
   ]
  },
  {
   "cell_type": "code",
   "execution_count": 46,
   "metadata": {},
   "outputs": [],
   "source": [
    "pred = lr.predict(x_test)"
   ]
  },
  {
   "cell_type": "code",
   "execution_count": 47,
   "metadata": {},
   "outputs": [
    {
     "data": {
      "text/plain": [
       "1415.7774330253453"
      ]
     },
     "execution_count": 47,
     "metadata": {},
     "output_type": "execute_result"
    }
   ],
   "source": [
    "mean_absolute_error(y_test, pred)"
   ]
  },
  {
   "cell_type": "code",
   "execution_count": 48,
   "metadata": {},
   "outputs": [
    {
     "data": {
      "text/plain": [
       "6212923.26897357"
      ]
     },
     "execution_count": 48,
     "metadata": {},
     "output_type": "execute_result"
    }
   ],
   "source": [
    "mean_squared_error(y_test,pred)"
   ]
  },
  {
   "cell_type": "code",
   "execution_count": 49,
   "metadata": {},
   "outputs": [
    {
     "data": {
      "text/plain": [
       "0.9875115512704442"
      ]
     },
     "execution_count": 49,
     "metadata": {},
     "output_type": "execute_result"
    }
   ],
   "source": [
    "r2_score(y_test,pred)"
   ]
  },
  {
   "cell_type": "code",
   "execution_count": 50,
   "metadata": {},
   "outputs": [],
   "source": [
    "from sklearn.model_selection import cross_val_score"
   ]
  },
  {
   "cell_type": "code",
   "execution_count": 52,
   "metadata": {},
   "outputs": [
    {
     "data": {
      "text/plain": [
       "0.9911281739566359"
      ]
     },
     "execution_count": 52,
     "metadata": {},
     "output_type": "execute_result"
    }
   ],
   "source": [
    "cross_val_score(lr,x,y,cv =5, scoring='r2').mean()"
   ]
  },
  {
   "cell_type": "code",
   "execution_count": null,
   "metadata": {},
   "outputs": [],
   "source": []
  }
 ],
 "metadata": {
  "kernelspec": {
   "display_name": "Python 3",
   "language": "python",
   "name": "python3"
  },
  "language_info": {
   "codemirror_mode": {
    "name": "ipython",
    "version": 3
   },
   "file_extension": ".py",
   "mimetype": "text/x-python",
   "name": "python",
   "nbconvert_exporter": "python",
   "pygments_lexer": "ipython3",
   "version": "3.8.3"
  }
 },
 "nbformat": 4,
 "nbformat_minor": 2
}
